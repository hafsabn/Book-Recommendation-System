{
 "cells": [
  {
   "cell_type": "markdown",
   "id": "96bf04a7-6007-4839-b360-aeba4a1babc1",
   "metadata": {},
   "source": [
    "<img src=\"../../figures/logo-esi-sba.png\" width=\"700\" height=\"126\" align=\"center\" alt=\"Logo\">\n",
    "\n",
    "# Book recommendation system\n",
    "*Prepared by* \n",
    "- Benghenima Hafsa (h.benghenima@esi-sba.dz) \n",
    "- Ghandouz Amina (a.ghandouz@esi-sba.dz) \n",
    "- Benahmed Firdaws (f.benahmed@esi-sba.dz) "
   ]
  },
  {
   "cell_type": "markdown",
   "id": "96b580c0-775b-4fef-9809-779bad9e86bf",
   "metadata": {},
   "source": [
    "## Notebook4 : FP-Growth Algorithm"
   ]
  },
  {
   "cell_type": "code",
   "execution_count": 75,
   "id": "7b058c67-351e-4dfa-802c-1824d7fddef4",
   "metadata": {},
   "outputs": [],
   "source": [
    "from scipy.sparse import coo_matrix\n",
    "from scipy.sparse import csr_matrix\n",
    "import pandas as pd\n",
    "import numpy as np\n",
    "import pyfpgrowth"
   ]
  },
  {
   "cell_type": "markdown",
   "id": "fb63c007",
   "metadata": {},
   "source": [
    "### Load the Dataset"
   ]
  },
  {
   "cell_type": "code",
   "execution_count": 76,
   "id": "531e3ce0",
   "metadata": {},
   "outputs": [
    {
     "data": {
      "text/html": [
       "<div>\n",
       "<style scoped>\n",
       "    .dataframe tbody tr th:only-of-type {\n",
       "        vertical-align: middle;\n",
       "    }\n",
       "\n",
       "    .dataframe tbody tr th {\n",
       "        vertical-align: top;\n",
       "    }\n",
       "\n",
       "    .dataframe thead th {\n",
       "        text-align: right;\n",
       "    }\n",
       "</style>\n",
       "<table border=\"1\" class=\"dataframe\">\n",
       "  <thead>\n",
       "    <tr style=\"text-align: right;\">\n",
       "      <th></th>\n",
       "      <th>User-ID</th>\n",
       "      <th>ISBN</th>\n",
       "      <th>Book-Rating</th>\n",
       "      <th>Book-Title</th>\n",
       "    </tr>\n",
       "  </thead>\n",
       "  <tbody>\n",
       "    <tr>\n",
       "      <th>0</th>\n",
       "      <td>276729</td>\n",
       "      <td>0521795028</td>\n",
       "      <td>6</td>\n",
       "      <td>The Amsterdam Connection : Level 4 (Cambridge ...</td>\n",
       "    </tr>\n",
       "    <tr>\n",
       "      <th>1</th>\n",
       "      <td>276744</td>\n",
       "      <td>038550120X</td>\n",
       "      <td>7</td>\n",
       "      <td>A Painted House</td>\n",
       "    </tr>\n",
       "    <tr>\n",
       "      <th>2</th>\n",
       "      <td>276747</td>\n",
       "      <td>0060517794</td>\n",
       "      <td>9</td>\n",
       "      <td>Little Altars Everywhere</td>\n",
       "    </tr>\n",
       "    <tr>\n",
       "      <th>3</th>\n",
       "      <td>276747</td>\n",
       "      <td>0671537458</td>\n",
       "      <td>9</td>\n",
       "      <td>Waiting to Exhale</td>\n",
       "    </tr>\n",
       "    <tr>\n",
       "      <th>4</th>\n",
       "      <td>276747</td>\n",
       "      <td>0679776818</td>\n",
       "      <td>8</td>\n",
       "      <td>Birdsong: A Novel of Love and War</td>\n",
       "    </tr>\n",
       "  </tbody>\n",
       "</table>\n",
       "</div>"
      ],
      "text/plain": [
       "   User-ID        ISBN  Book-Rating  \\\n",
       "0   276729  0521795028            6   \n",
       "1   276744  038550120X            7   \n",
       "2   276747  0060517794            9   \n",
       "3   276747  0671537458            9   \n",
       "4   276747  0679776818            8   \n",
       "\n",
       "                                          Book-Title  \n",
       "0  The Amsterdam Connection : Level 4 (Cambridge ...  \n",
       "1                                    A Painted House  \n",
       "2                           Little Altars Everywhere  \n",
       "3                                  Waiting to Exhale  \n",
       "4                  Birdsong: A Novel of Love and War  "
      ]
     },
     "execution_count": 76,
     "metadata": {},
     "output_type": "execute_result"
    }
   ],
   "source": [
    "file_path = \"../../data/cleaned_df.csv\"\n",
    "df = pd.read_csv(file_path)\n",
    "\n",
    "df.head()"
   ]
  },
  {
   "cell_type": "markdown",
   "id": "cd9d6e85",
   "metadata": {},
   "source": [
    "### Transform the Data into Transaction format"
   ]
  },
  {
   "cell_type": "code",
   "execution_count": 77,
   "id": "942f5fcc",
   "metadata": {},
   "outputs": [
    {
     "data": {
      "text/plain": [
       "(array([ 84049,   2671,  52658, 111122,  11695], dtype=int32),\n",
       " array([60796, 60797, 60798, 60798, 60798], dtype=int32))"
      ]
     },
     "execution_count": 77,
     "metadata": {},
     "output_type": "execute_result"
    }
   ],
   "source": [
    "# Step 1: convert categorical columns to codes\n",
    "book_titles = pd.Categorical(df['Book-Title']).codes\n",
    "user_ids = pd.Categorical(df['User-ID']).codes\n",
    "\n",
    "book_titles[:5], user_ids[:5]"
   ]
  },
  {
   "cell_type": "code",
   "execution_count": 78,
   "id": "9cf31fff",
   "metadata": {},
   "outputs": [],
   "source": [
    "# Step 2: create a sparse matrix with rows as users and columns as books\n",
    "sparse_matrix = coo_matrix(\n",
    "    (df['Book-Rating'], (user_ids, book_titles)),\n",
    "    shape=(len(np.unique(user_ids)), len(np.unique(book_titles)))\n",
    ")"
   ]
  },
  {
   "cell_type": "code",
   "execution_count": 79,
   "id": "6d5971bd",
   "metadata": {},
   "outputs": [],
   "source": [
    "# Step 3: convert to csr format\n",
    "sparse_matrix = sparse_matrix.tocsr()"
   ]
  },
  {
   "cell_type": "code",
   "execution_count": 80,
   "id": "8bb95544",
   "metadata": {},
   "outputs": [
    {
     "data": {
      "text/plain": [
       "[[37178, 59304, 103998]]"
      ]
     },
     "execution_count": 80,
     "metadata": {},
     "output_type": "execute_result"
    }
   ],
   "source": [
    "# Step 4: convert sparse matrix to a list of transactions\n",
    "transactions = []\n",
    "\n",
    "for user_row in sparse_matrix:\n",
    "    books = user_row.indices \n",
    "    transactions.append(books.tolist())\n",
    "\n",
    "transactions[:1]"
   ]
  },
  {
   "cell_type": "code",
   "execution_count": 81,
   "id": "77a19288",
   "metadata": {},
   "outputs": [
    {
     "data": {
      "text/plain": [
       "[['Goodbye to the Buttermilk Sky',\n",
       "  'More Cunning Than Man: A Social History of Rats and Man',\n",
       "  'The Witchfinder (Amos Walker Mystery Series)']]"
      ]
     },
     "execution_count": 81,
     "metadata": {},
     "output_type": "execute_result"
    }
   ],
   "source": [
    "# Step 5: map indices back to book titles\n",
    "\n",
    "book_titles = pd.Categorical(df['Book-Title']).categories\n",
    "transactions_with_titles = [[book_titles[i] for i in transaction] for transaction in transactions]\n",
    "\n",
    "transactions_with_titles[:1]\n"
   ]
  },
  {
   "cell_type": "markdown",
   "id": "183a286b",
   "metadata": {},
   "source": [
    "### Apply FP-Growth"
   ]
  },
  {
   "cell_type": "code",
   "execution_count": 82,
   "id": "98a87238",
   "metadata": {},
   "outputs": [],
   "source": [
    "# Step 1: run frequent pattern growth\n",
    "patterns = pyfpgrowth.find_frequent_patterns(transactions_with_titles, 20)"
   ]
  },
  {
   "cell_type": "code",
   "execution_count": 83,
   "id": "9fd80807",
   "metadata": {},
   "outputs": [],
   "source": [
    "# Step 2: generate association rules\n",
    "rules = pyfpgrowth.generate_association_rules(patterns, 0.5)"
   ]
  },
  {
   "cell_type": "markdown",
   "id": "e461318f",
   "metadata": {},
   "source": [
    "### Interpret the Results"
   ]
  },
  {
   "cell_type": "code",
   "execution_count": 84,
   "id": "6110af33",
   "metadata": {},
   "outputs": [],
   "source": [
    "# function to display rules\n",
    "def display_rules(rules):\n",
    "    for antecedent, (consequent, confidence) in list(rules.items()):\n",
    "        print(f\"Rule: {antecedent} -> {consequent} (Confidence: {confidence:.2f})\")"
   ]
  },
  {
   "cell_type": "code",
   "execution_count": 85,
   "id": "1cbeb68e",
   "metadata": {},
   "outputs": [
    {
     "name": "stdout",
     "output_type": "stream",
     "text": [
      "association rules:\n",
      "Rule: ('The Green Mile: The Mouse on the Mile (Green Mile Series)',) -> (\"The Green Mile: Coffey's Hands (Green Mile Series)\",) (Confidence: 0.71)\n",
      "Rule: (\"The Green Mile: Coffey's Hands (Green Mile Series)\",) -> ('The Two Dead Girls (Green Mile Series)',) (Confidence: 0.73)\n",
      "Rule: ('The Two Dead Girls (Green Mile Series)',) -> (\"The Green Mile: Coffey's Hands (Green Mile Series)\",) (Confidence: 0.63)\n",
      "Rule: (\"The Green Mile: Coffey's Hands (Green Mile Series)\", 'The Green Mile: Night Journey (Green Mile Series)') -> ('The Two Dead Girls (Green Mile Series)',) (Confidence: 0.95)\n",
      "Rule: (\"The Green Mile: Coffey's Hands (Green Mile Series)\", 'The Two Dead Girls (Green Mile Series)') -> ('The Green Mile: Night Journey (Green Mile Series)',) (Confidence: 0.91)\n",
      "Rule: ('The Green Mile: Night Journey (Green Mile Series)', 'The Two Dead Girls (Green Mile Series)') -> (\"The Green Mile: Coffey's Hands (Green Mile Series)\",) (Confidence: 0.87)\n",
      "Rule: ('The Wide Window (A Series of Unfortunate Events, Book 3)',) -> ('The Bad Beginning (A Series of Unfortunate Events, Book 1)',) (Confidence: 0.71)\n",
      "Rule: ('Griffin &amp; Sabine: An Extraordinary Correspondence',) -> (\"Sabine's Notebook: In Which the Extraordinary Correspondence of Griffin &amp; Sabine Continues\",) (Confidence: 0.55)\n",
      "Rule: (\"Sabine's Notebook: In Which the Extraordinary Correspondence of Griffin &amp; Sabine Continues\",) -> ('Griffin &amp; Sabine: An Extraordinary Correspondence',) (Confidence: 0.79)\n",
      "Rule: ('Circus of the Damned (Anita Blake Vampire Hunter (Paperback))', 'Guilty Pleasures (Anita Blake Vampire Hunter (Paperback))') -> ('The Laughing Corpse (Anita Blake Vampire Hunter (Paperback))',) (Confidence: 0.75)\n",
      "Rule: ('Circus of the Damned (Anita Blake Vampire Hunter (Paperback))', 'The Lunatic Cafe (Anita Blake Vampire Hunter (Paperback))') -> ('Bloody Bones (Anita Blake Vampire Hunter (Paperback))',) (Confidence: 0.93)\n",
      "Rule: ('Guilty Pleasures (Anita Blake Vampire Hunter (Paperback))', 'The Lunatic Cafe (Anita Blake Vampire Hunter (Paperback))') -> ('Circus of the Damned (Anita Blake Vampire Hunter (Paperback))',) (Confidence: 0.95)\n",
      "Rule: ('The Laughing Corpse (Anita Blake Vampire Hunter (Paperback))',) -> ('Guilty Pleasures (Anita Blake Vampire Hunter (Paperback))',) (Confidence: 0.61)\n",
      "Rule: ('Circus of the Damned (Anita Blake Vampire Hunter (Paperback))', 'The Laughing Corpse (Anita Blake Vampire Hunter (Paperback))') -> ('Guilty Pleasures (Anita Blake Vampire Hunter (Paperback))',) (Confidence: 0.72)\n",
      "Rule: ('The Laughing Corpse (Anita Blake Vampire Hunter (Paperback))', 'The Lunatic Cafe (Anita Blake Vampire Hunter (Paperback))') -> ('Bloody Bones (Anita Blake Vampire Hunter (Paperback))', 'Circus of the Damned (Anita Blake Vampire Hunter (Paperback))') (Confidence: 0.85)\n",
      "Rule: ('Bloody Bones (Anita Blake Vampire Hunter (Paperback))', 'The Laughing Corpse (Anita Blake Vampire Hunter (Paperback))') -> ('Circus of the Damned (Anita Blake Vampire Hunter (Paperback))',) (Confidence: 0.93)\n",
      "Rule: ('Bloody Bones (Anita Blake Vampire Hunter (Paperback))', 'The Lunatic Cafe (Anita Blake Vampire Hunter (Paperback))') -> ('Circus of the Damned (Anita Blake Vampire Hunter (Paperback))',) (Confidence: 0.90)\n",
      "Rule: ('Bloody Bones (Anita Blake Vampire Hunter (Paperback))', 'Circus of the Damned (Anita Blake Vampire Hunter (Paperback))') -> ('The Laughing Corpse (Anita Blake Vampire Hunter (Paperback))',) (Confidence: 0.81)\n",
      "Rule: ('Bloody Bones (Anita Blake Vampire Hunter (Paperback))', 'Circus of the Damned (Anita Blake Vampire Hunter (Paperback))', 'The Laughing Corpse (Anita Blake Vampire Hunter (Paperback))') -> ('The Lunatic Cafe (Anita Blake Vampire Hunter (Paperback))',) (Confidence: 0.92)\n",
      "Rule: ('Bloody Bones (Anita Blake Vampire Hunter (Paperback))', 'Circus of the Damned (Anita Blake Vampire Hunter (Paperback))', 'The Lunatic Cafe (Anita Blake Vampire Hunter (Paperback))') -> ('The Laughing Corpse (Anita Blake Vampire Hunter (Paperback))',) (Confidence: 0.85)\n",
      "Rule: ('Bloody Bones (Anita Blake Vampire Hunter (Paperback))', 'The Laughing Corpse (Anita Blake Vampire Hunter (Paperback))', 'The Lunatic Cafe (Anita Blake Vampire Hunter (Paperback))') -> ('Circus of the Damned (Anita Blake Vampire Hunter (Paperback))',) (Confidence: 1.00)\n",
      "Rule: ('Circus of the Damned (Anita Blake Vampire Hunter (Paperback))', 'The Laughing Corpse (Anita Blake Vampire Hunter (Paperback))', 'The Lunatic Cafe (Anita Blake Vampire Hunter (Paperback))') -> ('Bloody Bones (Anita Blake Vampire Hunter (Paperback))',) (Confidence: 0.96)\n",
      "Rule: ('The Drawing of the Three (The Dark Tower, Book 2)', 'The Gunslinger (The Dark Tower, Book 1)') -> ('The Waste Lands (The Dark Tower, Book 3)',) (Confidence: 0.51)\n",
      "Rule: ('The Drawing of the Three (The Dark Tower, Book 2)', 'The Waste Lands (The Dark Tower, Book 3)') -> ('The Gunslinger (The Dark Tower, Book 1)',) (Confidence: 0.79)\n",
      "Rule: ('The Gunslinger (The Dark Tower, Book 1)', 'The Waste Lands (The Dark Tower, Book 3)') -> ('The Drawing of the Three (The Dark Tower, Book 2)',) (Confidence: 0.92)\n",
      "Rule: ('Guilty Pleasures (Anita Blake Vampire Hunter (Paperback))', 'The Laughing Corpse (Anita Blake Vampire Hunter (Paperback))') -> ('Circus of the Damned (Anita Blake Vampire Hunter (Paperback))',) (Confidence: 0.75)\n",
      "Rule: ('Key of Knowledge (Key Trilogy (Paperback))',) -> ('Key of Valor (Roberts, Nora. Key Trilogy, 3.)',) (Confidence: 0.60)\n",
      "Rule: ('Key of Valor (Roberts, Nora. Key Trilogy, 3.)',) -> ('Key of Knowledge (Key Trilogy (Paperback))',) (Confidence: 0.57)\n",
      "Rule: ('Nicolae: The Rise of Antichrist (Left Behind No. 3)', 'Soul Harvest: The World Takes Sides (Left Behind No. 4)') -> ('Tribulation Force: The Continuing Drama of Those Left Behind (Left Behind No. 2)',) (Confidence: 0.84)\n",
      "Rule: ('Nicolae: The Rise of Antichrist (Left Behind No. 3)', 'Tribulation Force: The Continuing Drama of Those Left Behind (Left Behind No. 2)') -> ('Soul Harvest: The World Takes Sides (Left Behind No. 4)',) (Confidence: 0.70)\n",
      "Rule: ('Soul Harvest: The World Takes Sides (Left Behind No. 4)', 'Tribulation Force: The Continuing Drama of Those Left Behind (Left Behind No. 2)') -> ('Nicolae: The Rise of Antichrist (Left Behind No. 3)',) (Confidence: 0.70)\n",
      "Rule: ('Morality for Beautiful Girls (No.1 Ladies Detective Agency)',) -> ('Tears of the Giraffe (No.1 Ladies Detective Agency)',) (Confidence: 0.58)\n",
      "Rule: ('The Reptile Room (A Series of Unfortunate Events, Book 2)',) -> ('The Bad Beginning (A Series of Unfortunate Events, Book 1)',) (Confidence: 0.58)\n",
      "Rule: ('Dragonfly in Amber', 'Outlander') -> ('Voyager',) (Confidence: 0.65)\n",
      "Rule: ('Dragonfly in Amber', 'Voyager') -> ('Outlander',) (Confidence: 0.79)\n",
      "Rule: ('Outlander', 'Voyager') -> ('Dragonfly in Amber',) (Confidence: 0.79)\n",
      "Rule: ('The Drawing of the Three (The Dark Tower, Book 2)', 'Wizard and Glass (The Dark Tower, Book 4)') -> ('The Gunslinger (The Dark Tower, Book 1)',) (Confidence: 0.69)\n",
      "Rule: ('The Gunslinger (The Dark Tower, Book 1)', 'Wizard and Glass (The Dark Tower, Book 4)') -> ('The Drawing of the Three (The Dark Tower, Book 2)',) (Confidence: 0.87)\n",
      "Rule: ('The Amber Spyglass (His Dark Materials, Book 3)', 'The Golden Compass (His Dark Materials, Book 1)') -> ('The Subtle Knife (His Dark Materials, Book 2)',) (Confidence: 0.91)\n",
      "Rule: ('The Amber Spyglass (His Dark Materials, Book 3)', 'The Subtle Knife (His Dark Materials, Book 2)') -> ('The Golden Compass (His Dark Materials, Book 1)',) (Confidence: 0.76)\n",
      "Rule: ('The Golden Compass (His Dark Materials, Book 1)', 'The Subtle Knife (His Dark Materials, Book 2)') -> ('The Amber Spyglass (His Dark Materials, Book 3)',) (Confidence: 0.66)\n",
      "Rule: ('Interview with the Vampire', 'The Queen of the Damned (Vampire Chronicles (Paperback))') -> ('The Vampire Lestat (Vampire Chronicles, Book II)',) (Confidence: 0.76)\n",
      "Rule: ('Interview with the Vampire', 'The Tale of the Body Thief (Vampire Chronicles (Paperback))') -> ('The Vampire Lestat (Vampire Chronicles, Book II)',) (Confidence: 0.78)\n",
      "Rule: ('The Queen of the Damned (Vampire Chronicles (Paperback))', 'The Vampire Lestat (Vampire Chronicles, Book II)') -> ('Interview with the Vampire',) (Confidence: 0.65)\n",
      "Rule: ('The Tale of the Body Thief (Vampire Chronicles (Paperback))', 'The Vampire Lestat (Vampire Chronicles, Book II)') -> ('Interview with the Vampire',) (Confidence: 0.78)\n",
      "Rule: ('Interview with the Vampire', 'The Vampire Lestat (Vampire Chronicles, Book II)') -> ('The Queen of the Damned (Vampire Chronicles (Paperback))',) (Confidence: 0.58)\n",
      "Rule: ('Four To Score (A Stephanie Plum Novel)', 'Hot Six : A Stephanie Plum Novel (A Stephanie Plum Novel)') -> ('High Five (A Stephanie Plum Novel)',) (Confidence: 0.91)\n",
      "Rule: ('Four To Score (A Stephanie Plum Novel)', 'Two for the Dough') -> ('Seven Up (A Stephanie Plum Novel)',) (Confidence: 0.71)\n",
      "Rule: ('Hot Six : A Stephanie Plum Novel (A Stephanie Plum Novel)', 'Two for the Dough') -> ('Four To Score (A Stephanie Plum Novel)', 'High Five (A Stephanie Plum Novel)') (Confidence: 0.87)\n",
      "Rule: ('High Five (A Stephanie Plum Novel)', 'Hot Six : A Stephanie Plum Novel (A Stephanie Plum Novel)') -> ('Four To Score (A Stephanie Plum Novel)',) (Confidence: 0.76)\n",
      "Rule: ('Four To Score (A Stephanie Plum Novel)', 'High Five (A Stephanie Plum Novel)', 'Hot Six : A Stephanie Plum Novel (A Stephanie Plum Novel)') -> ('Three To Get Deadly : A Stephanie Plum Novel (A Stephanie Plum Novel)',) (Confidence: 0.77)\n",
      "Rule: ('Four To Score (A Stephanie Plum Novel)', 'High Five (A Stephanie Plum Novel)', 'Two for the Dough') -> ('Seven Up (A Stephanie Plum Novel)',) (Confidence: 0.84)\n",
      "Rule: ('Four To Score (A Stephanie Plum Novel)', 'Hot Six : A Stephanie Plum Novel (A Stephanie Plum Novel)', 'Two for the Dough') -> ('High Five (A Stephanie Plum Novel)',) (Confidence: 1.00)\n",
      "Rule: ('High Five (A Stephanie Plum Novel)', 'Hot Six : A Stephanie Plum Novel (A Stephanie Plum Novel)', 'Two for the Dough') -> ('Four To Score (A Stephanie Plum Novel)',) (Confidence: 0.91)\n",
      "Rule: ('Hard Eight : A Stephanie Plum Novel (A Stephanie Plum Novel)', 'Hot Six : A Stephanie Plum Novel (A Stephanie Plum Novel)') -> ('High Five (A Stephanie Plum Novel)',) (Confidence: 0.85)\n",
      "Rule: ('Hot Six : A Stephanie Plum Novel (A Stephanie Plum Novel)', 'Three To Get Deadly : A Stephanie Plum Novel (A Stephanie Plum Novel)') -> ('Four To Score (A Stephanie Plum Novel)', 'High Five (A Stephanie Plum Novel)') (Confidence: 0.80)\n",
      "Rule: ('Four To Score (A Stephanie Plum Novel)', 'Seven Up (A Stephanie Plum Novel)') -> ('Two for the Dough',) (Confidence: 0.84)\n",
      "Rule: ('Four To Score (A Stephanie Plum Novel)', 'High Five (A Stephanie Plum Novel)') -> ('Seven Up (A Stephanie Plum Novel)',) (Confidence: 0.60)\n",
      "Rule: ('High Five (A Stephanie Plum Novel)', 'Seven Up (A Stephanie Plum Novel)') -> ('Four To Score (A Stephanie Plum Novel)',) (Confidence: 0.64)\n",
      "Rule: ('Four To Score (A Stephanie Plum Novel)', 'High Five (A Stephanie Plum Novel)', 'Seven Up (A Stephanie Plum Novel)') -> ('Two for the Dough',) (Confidence: 0.84)\n",
      "Rule: ('Four To Score (A Stephanie Plum Novel)', 'Hot Six : A Stephanie Plum Novel (A Stephanie Plum Novel)', 'Seven Up (A Stephanie Plum Novel)') -> ('High Five (A Stephanie Plum Novel)',) (Confidence: 1.00)\n",
      "Rule: ('High Five (A Stephanie Plum Novel)', 'Hot Six : A Stephanie Plum Novel (A Stephanie Plum Novel)', 'Seven Up (A Stephanie Plum Novel)') -> ('Four To Score (A Stephanie Plum Novel)',) (Confidence: 0.88)\n",
      "Rule: ('High Five (A Stephanie Plum Novel)', 'Three To Get Deadly : A Stephanie Plum Novel (A Stephanie Plum Novel)') -> ('Two for the Dough',) (Confidence: 0.58)\n",
      "Rule: ('Four To Score (A Stephanie Plum Novel)', 'High Five (A Stephanie Plum Novel)', 'Three To Get Deadly : A Stephanie Plum Novel (A Stephanie Plum Novel)') -> ('Two for the Dough',) (Confidence: 0.71)\n",
      "Rule: ('Four To Score (A Stephanie Plum Novel)', 'Hot Six : A Stephanie Plum Novel (A Stephanie Plum Novel)', 'Three To Get Deadly : A Stephanie Plum Novel (A Stephanie Plum Novel)') -> ('High Five (A Stephanie Plum Novel)',) (Confidence: 1.00)\n",
      "Rule: ('High Five (A Stephanie Plum Novel)', 'Hot Six : A Stephanie Plum Novel (A Stephanie Plum Novel)', 'Three To Get Deadly : A Stephanie Plum Novel (A Stephanie Plum Novel)') -> ('Four To Score (A Stephanie Plum Novel)',) (Confidence: 0.89)\n",
      "Rule: ('The Drawing of the Three (The Dark Tower, Book 2)',) -> ('The Gunslinger (The Dark Tower, Book 1)',) (Confidence: 0.57)\n",
      "Rule: ('The Gunslinger (The Dark Tower, Book 1)',) -> ('The Drawing of the Three (The Dark Tower, Book 2)',) (Confidence: 0.51)\n",
      "Rule: ('Hard Eight : A Stephanie Plum Novel (A Stephanie Plum Novel)', 'Seven Up (A Stephanie Plum Novel)') -> ('High Five (A Stephanie Plum Novel)',) (Confidence: 0.68)\n",
      "Rule: ('Seven Up (A Stephanie Plum Novel)', 'Two for the Dough') -> ('Four To Score (A Stephanie Plum Novel)',) (Confidence: 0.82)\n",
      "Rule: ('Three To Get Deadly : A Stephanie Plum Novel (A Stephanie Plum Novel)', 'Two for the Dough') -> ('High Five (A Stephanie Plum Novel)',) (Confidence: 0.62)\n",
      "Rule: ('Four To Score (A Stephanie Plum Novel)', 'Seven Up (A Stephanie Plum Novel)', 'Three To Get Deadly : A Stephanie Plum Novel (A Stephanie Plum Novel)') -> ('High Five (A Stephanie Plum Novel)',) (Confidence: 0.91)\n",
      "Rule: ('Four To Score (A Stephanie Plum Novel)', 'Seven Up (A Stephanie Plum Novel)', 'Two for the Dough') -> ('High Five (A Stephanie Plum Novel)',) (Confidence: 0.78)\n",
      "Rule: ('Four To Score (A Stephanie Plum Novel)', 'Three To Get Deadly : A Stephanie Plum Novel (A Stephanie Plum Novel)', 'Two for the Dough') -> ('High Five (A Stephanie Plum Novel)',) (Confidence: 0.88)\n",
      "Rule: ('Seven Up (A Stephanie Plum Novel)', 'Three To Get Deadly : A Stephanie Plum Novel (A Stephanie Plum Novel)', 'Two for the Dough') -> ('Four To Score (A Stephanie Plum Novel)',) (Confidence: 0.95)\n",
      "Rule: ('High Five (A Stephanie Plum Novel)', 'Seven Up (A Stephanie Plum Novel)', 'Three To Get Deadly : A Stephanie Plum Novel (A Stephanie Plum Novel)') -> ('Four To Score (A Stephanie Plum Novel)',) (Confidence: 0.74)\n",
      "Rule: ('High Five (A Stephanie Plum Novel)', 'Three To Get Deadly : A Stephanie Plum Novel (A Stephanie Plum Novel)', 'Two for the Dough') -> ('Four To Score (A Stephanie Plum Novel)',) (Confidence: 0.88)\n",
      "Rule: ('High Five (A Stephanie Plum Novel)', 'Seven Up (A Stephanie Plum Novel)', 'Two for the Dough') -> ('Four To Score (A Stephanie Plum Novel)',) (Confidence: 0.95)\n",
      "Rule: ('Four To Score (A Stephanie Plum Novel)', 'Hard Eight : A Stephanie Plum Novel (A Stephanie Plum Novel)') -> ('High Five (A Stephanie Plum Novel)',) (Confidence: 0.80)\n",
      "Rule: ('The Hobbit : The Enchanting Prelude to The Lord of the Rings', 'The Two Towers (The Lord of the Rings, Part 2)') -> ('The Fellowship of the Ring (The Lord of the Rings, Part 1)',) (Confidence: 0.74)\n",
      "Rule: ('The Fellowship of the Ring (The Lord of the Rings, Part 1)', 'The Hobbit : The Enchanting Prelude to The Lord of the Rings') -> ('The Two Towers (The Lord of the Rings, Part 2)',) (Confidence: 0.68)\n",
      "Rule: ('The Fellowship of the Ring (The Lord of the Rings, Part 1)', 'The Return of the King (The Lord of the Rings, Part 3)') -> ('The Two Towers (The Lord of the Rings, Part 2)',) (Confidence: 0.85)\n",
      "Rule: ('The Fellowship of the Ring (The Lord of the Rings, Part 1)', 'The Two Towers (The Lord of the Rings, Part 2)') -> ('The Return of the King (The Lord of the Rings, Part 3)',) (Confidence: 0.63)\n",
      "Rule: ('The Return of the King (The Lord of the Rings, Part 3)', 'The Two Towers (The Lord of the Rings, Part 2)') -> ('The Fellowship of the Ring (The Lord of the Rings, Part 1)',) (Confidence: 0.77)\n",
      "Rule: ('Harry Potter and the Prisoner of Azkaban (Book 3)', \"Harry Potter and the Sorcerer's Stone (Book 1)\") -> ('Harry Potter and the Chamber of Secrets (Book 2)',) (Confidence: 0.91)\n",
      "Rule: ('Harry Potter and the Goblet of Fire (Book 4)', 'Harry Potter and the Order of the Phoenix (Book 5)', 'Harry Potter and the Prisoner of Azkaban (Book 3)') -> ('Harry Potter and the Chamber of Secrets (Book 2)',) (Confidence: 0.81)\n",
      "Rule: ('Harry Potter and the Goblet of Fire (Book 4)', 'Harry Potter and the Order of the Phoenix (Book 5)', \"Harry Potter and the Sorcerer's Stone (Book 1)\") -> ('Harry Potter and the Chamber of Secrets (Book 2)', 'Harry Potter and the Prisoner of Azkaban (Book 3)') (Confidence: 0.92)\n",
      "Rule: ('Harry Potter and the Goblet of Fire (Book 4)', 'Harry Potter and the Prisoner of Azkaban (Book 3)', \"Harry Potter and the Sorcerer's Stone (Book 1)\") -> ('Harry Potter and the Chamber of Secrets (Book 2)',) (Confidence: 0.92)\n",
      "Rule: ('Harry Potter and the Order of the Phoenix (Book 5)', 'Harry Potter and the Prisoner of Azkaban (Book 3)', \"Harry Potter and the Sorcerer's Stone (Book 1)\") -> ('Harry Potter and the Chamber of Secrets (Book 2)', 'Harry Potter and the Goblet of Fire (Book 4)') (Confidence: 0.84)\n",
      "Rule: ('Harry Potter and the Chamber of Secrets (Book 2)', 'Harry Potter and the Goblet of Fire (Book 4)', 'Harry Potter and the Order of the Phoenix (Book 5)') -> ('Harry Potter and the Prisoner of Azkaban (Book 3)',) (Confidence: 0.93)\n",
      "Rule: ('Harry Potter and the Chamber of Secrets (Book 2)', 'Harry Potter and the Goblet of Fire (Book 4)', \"Harry Potter and the Sorcerer's Stone (Book 1)\") -> ('Harry Potter and the Prisoner of Azkaban (Book 3)',) (Confidence: 0.98)\n",
      "Rule: ('Harry Potter and the Chamber of Secrets (Book 2)', 'Harry Potter and the Order of the Phoenix (Book 5)', \"Harry Potter and the Sorcerer's Stone (Book 1)\") -> ('Harry Potter and the Goblet of Fire (Book 4)', 'Harry Potter and the Prisoner of Azkaban (Book 3)') (Confidence: 0.92)\n",
      "Rule: ('Harry Potter and the Chamber of Secrets (Book 2)', 'Harry Potter and the Order of the Phoenix (Book 5)', 'Harry Potter and the Prisoner of Azkaban (Book 3)') -> ('Harry Potter and the Goblet of Fire (Book 4)',) (Confidence: 0.89)\n",
      "Rule: ('Harry Potter and the Chamber of Secrets (Book 2)', 'Harry Potter and the Prisoner of Azkaban (Book 3)', \"Harry Potter and the Sorcerer's Stone (Book 1)\") -> ('Harry Potter and the Goblet of Fire (Book 4)',) (Confidence: 0.86)\n",
      "Rule: ('Harry Potter and the Chamber of Secrets (Book 2)', 'Harry Potter and the Goblet of Fire (Book 4)', 'Harry Potter and the Order of the Phoenix (Book 5)', 'Harry Potter and the Prisoner of Azkaban (Book 3)') -> (\"Harry Potter and the Sorcerer's Stone (Book 1)\",) (Confidence: 0.65)\n",
      "Rule: ('Harry Potter and the Chamber of Secrets (Book 2)', 'Harry Potter and the Goblet of Fire (Book 4)', 'Harry Potter and the Order of the Phoenix (Book 5)', \"Harry Potter and the Sorcerer's Stone (Book 1)\") -> ('Harry Potter and the Prisoner of Azkaban (Book 3)',) (Confidence: 1.00)\n",
      "Rule: ('Harry Potter and the Chamber of Secrets (Book 2)', 'Harry Potter and the Goblet of Fire (Book 4)', 'Harry Potter and the Prisoner of Azkaban (Book 3)', \"Harry Potter and the Sorcerer's Stone (Book 1)\") -> ('Harry Potter and the Order of the Phoenix (Book 5)',) (Confidence: 0.59)\n",
      "Rule: ('Harry Potter and the Chamber of Secrets (Book 2)', 'Harry Potter and the Order of the Phoenix (Book 5)', 'Harry Potter and the Prisoner of Azkaban (Book 3)', \"Harry Potter and the Sorcerer's Stone (Book 1)\") -> ('Harry Potter and the Goblet of Fire (Book 4)',) (Confidence: 0.92)\n",
      "Rule: ('Harry Potter and the Goblet of Fire (Book 4)', 'Harry Potter and the Order of the Phoenix (Book 5)', 'Harry Potter and the Prisoner of Azkaban (Book 3)', \"Harry Potter and the Sorcerer's Stone (Book 1)\") -> ('Harry Potter and the Chamber of Secrets (Book 2)',) (Confidence: 0.92)\n",
      "Rule: ('Harry Potter and the Order of the Phoenix (Book 5)', 'Harry Potter and the Prisoner of Azkaban (Book 3)') -> ('Harry Potter and the Goblet of Fire (Book 4)',) (Confidence: 0.86)\n",
      "Rule: ('Harry Potter and the Chamber of Secrets (Book 2)', \"Harry Potter and the Sorcerer's Stone (Book 1)\") -> ('Harry Potter and the Prisoner of Azkaban (Book 3)',) (Confidence: 0.84)\n",
      "Rule: ('Harry Potter and the Chamber of Secrets (Book 2)', 'Harry Potter and the Goblet of Fire (Book 4)', 'Harry Potter and the Prisoner of Azkaban (Book 3)') -> ('Harry Potter and the Order of the Phoenix (Book 5)',) (Confidence: 0.50)\n",
      "Rule: ('Harry Potter and the Goblet of Fire (Book 4)', 'The Fellowship of the Ring (The Lord of the Rings, Part 1)') -> ('Harry Potter and the Prisoner of Azkaban (Book 3)',) (Confidence: 0.81)\n",
      "Rule: ('Harry Potter and the Prisoner of Azkaban (Book 3)', 'The Fellowship of the Ring (The Lord of the Rings, Part 1)') -> ('Harry Potter and the Chamber of Secrets (Book 2)',) (Confidence: 0.72)\n",
      "Rule: ('Harry Potter and the Chamber of Secrets (Book 2)', 'The Fellowship of the Ring (The Lord of the Rings, Part 1)') -> ('Harry Potter and the Prisoner of Azkaban (Book 3)',) (Confidence: 0.70)\n",
      "Rule: ('Harry Potter and the Order of the Phoenix (Book 5)', 'Harry Potter and the Prisoner of Azkaban (Book 3)', \"Harry Potter and the Sorcerer's Stone (Harry Potter (Paperback))\") -> ('Harry Potter and the Goblet of Fire (Book 4)',) (Confidence: 0.89)\n",
      "Rule: ('Harry Potter and the Goblet of Fire (Book 4)', 'Harry Potter and the Order of the Phoenix (Book 5)', \"Harry Potter and the Sorcerer's Stone (Harry Potter (Paperback))\") -> ('Harry Potter and the Prisoner of Azkaban (Book 3)',) (Confidence: 0.86)\n",
      "Rule: ('Harry Potter and the Chamber of Secrets (Book 2)', 'Harry Potter and the Goblet of Fire (Book 4)', 'Harry Potter and the Order of the Phoenix (Book 5)', \"Harry Potter and the Sorcerer's Stone (Harry Potter (Paperback))\") -> ('Harry Potter and the Prisoner of Azkaban (Book 3)',) (Confidence: 0.91)\n",
      "Rule: ('Harry Potter and the Chamber of Secrets (Book 2)', 'Harry Potter and the Goblet of Fire (Book 4)', 'Harry Potter and the Prisoner of Azkaban (Book 3)', \"Harry Potter and the Sorcerer's Stone (Harry Potter (Paperback))\") -> ('Harry Potter and the Order of the Phoenix (Book 5)',) (Confidence: 0.51)\n",
      "Rule: ('Harry Potter and the Chamber of Secrets (Book 2)', 'Harry Potter and the Order of the Phoenix (Book 5)', 'Harry Potter and the Prisoner of Azkaban (Book 3)', \"Harry Potter and the Sorcerer's Stone (Harry Potter (Paperback))\") -> ('Harry Potter and the Goblet of Fire (Book 4)',) (Confidence: 0.91)\n",
      "Rule: ('Harry Potter and the Goblet of Fire (Book 4)', 'Harry Potter and the Order of the Phoenix (Book 5)', 'Harry Potter and the Prisoner of Azkaban (Book 3)', \"Harry Potter and the Sorcerer's Stone (Harry Potter (Paperback))\") -> ('Harry Potter and the Chamber of Secrets (Book 2)',) (Confidence: 0.80)\n",
      "Rule: ('Harry Potter and the Goblet of Fire (Book 4)', 'Harry Potter and the Prisoner of Azkaban (Book 3)', \"Harry Potter and the Sorcerer's Stone (Harry Potter (Paperback))\") -> ('Harry Potter and the Chamber of Secrets (Book 2)',) (Confidence: 0.87)\n",
      "Rule: ('Harry Potter and the Goblet of Fire (Book 4)', 'Harry Potter and the Order of the Phoenix (Book 5)') -> ('Harry Potter and the Prisoner of Azkaban (Book 3)',) (Confidence: 0.81)\n",
      "Rule: ('Harry Potter and the Prisoner of Azkaban (Book 3)', \"Harry Potter and the Sorcerer's Stone (Harry Potter (Paperback))\") -> ('Harry Potter and the Chamber of Secrets (Book 2)',) (Confidence: 0.74)\n",
      "Rule: ('Harry Potter and the Chamber of Secrets (Book 2)', 'Harry Potter and the Goblet of Fire (Book 4)', \"Harry Potter and the Sorcerer's Stone (Harry Potter (Paperback))\") -> ('Harry Potter and the Prisoner of Azkaban (Book 3)',) (Confidence: 0.83)\n",
      "Rule: ('Harry Potter and the Chamber of Secrets (Book 2)', 'Harry Potter and the Prisoner of Azkaban (Book 3)', \"Harry Potter and the Sorcerer's Stone (Harry Potter (Paperback))\") -> ('Harry Potter and the Goblet of Fire (Book 4)',) (Confidence: 0.75)\n",
      "Rule: ('Harry Potter and the Chamber of Secrets (Book 2)', \"Harry Potter and the Sorcerer's Stone (Harry Potter (Paperback))\") -> ('Harry Potter and the Prisoner of Azkaban (Book 3)',) (Confidence: 0.58)\n",
      "Rule: ('Harry Potter and the Chamber of Secrets (Book 2)', 'Harry Potter and the Goblet of Fire (Book 4)') -> ('Harry Potter and the Prisoner of Azkaban (Book 3)',) (Confidence: 0.83)\n",
      "Rule: ('Harry Potter and the Chamber of Secrets (Book 2)', 'Harry Potter and the Prisoner of Azkaban (Book 3)') -> ('Harry Potter and the Goblet of Fire (Book 4)',) (Confidence: 0.75)\n",
      "Rule: ('Harry Potter and the Goblet of Fire (Book 4)', 'Harry Potter and the Prisoner of Azkaban (Book 3)') -> ('Harry Potter and the Chamber of Secrets (Book 2)',) (Confidence: 0.80)\n"
     ]
    }
   ],
   "source": [
    "# display the association rules\n",
    "print(\"association rules:\")\n",
    "display_rules(rules)"
   ]
  },
  {
   "cell_type": "code",
   "execution_count": 86,
   "id": "099c040a",
   "metadata": {},
   "outputs": [],
   "source": [
    "# function to filter and display rules related to a specific book\n",
    "def display_rules_for_book(rules, book_title):\n",
    "    found = False\n",
    "    for rule in rules:\n",
    "        antecedent = rule\n",
    "        consequent = rules[rule][0]\n",
    "        confidence = rules[rule][1]\n",
    "        # Check if the book title is in the antecedent or consequent\n",
    "        if book_title in antecedent or book_title in consequent:\n",
    "            print(f\"association rules related to '{book_title}':\")\n",
    "            found = True\n",
    "            print(f\"Rule: {antecedent} -> {consequent} (Confidence: {confidence:.2f})\")\n",
    "    if not found:\n",
    "        print(f\"No rules found for '{book_title}'.\")"
   ]
  },
  {
   "cell_type": "code",
   "execution_count": 87,
   "id": "a65252f3",
   "metadata": {},
   "outputs": [
    {
     "name": "stdout",
     "output_type": "stream",
     "text": [
      "association rules related to 'Interview with the Vampire':\n",
      "Rule: ('Interview with the Vampire', 'The Queen of the Damned (Vampire Chronicles (Paperback))') -> ('The Vampire Lestat (Vampire Chronicles, Book II)',) (Confidence: 0.76)\n",
      "association rules related to 'Interview with the Vampire':\n",
      "Rule: ('Interview with the Vampire', 'The Tale of the Body Thief (Vampire Chronicles (Paperback))') -> ('The Vampire Lestat (Vampire Chronicles, Book II)',) (Confidence: 0.78)\n",
      "association rules related to 'Interview with the Vampire':\n",
      "Rule: ('The Queen of the Damned (Vampire Chronicles (Paperback))', 'The Vampire Lestat (Vampire Chronicles, Book II)') -> ('Interview with the Vampire',) (Confidence: 0.65)\n",
      "association rules related to 'Interview with the Vampire':\n",
      "Rule: ('The Tale of the Body Thief (Vampire Chronicles (Paperback))', 'The Vampire Lestat (Vampire Chronicles, Book II)') -> ('Interview with the Vampire',) (Confidence: 0.78)\n",
      "association rules related to 'Interview with the Vampire':\n",
      "Rule: ('Interview with the Vampire', 'The Vampire Lestat (Vampire Chronicles, Book II)') -> ('The Queen of the Damned (Vampire Chronicles (Paperback))',) (Confidence: 0.58)\n"
     ]
    }
   ],
   "source": [
    "book_title = 'Interview with the Vampire'\n",
    "\n",
    "display_rules_for_book(rules, book_title)"
   ]
  }
 ],
 "metadata": {
  "kernelspec": {
   "display_name": "base",
   "language": "python",
   "name": "python3"
  },
  "language_info": {
   "codemirror_mode": {
    "name": "ipython",
    "version": 3
   },
   "file_extension": ".py",
   "mimetype": "text/x-python",
   "name": "python",
   "nbconvert_exporter": "python",
   "pygments_lexer": "ipython3",
   "version": "3.12.4"
  }
 },
 "nbformat": 4,
 "nbformat_minor": 5
}
