{
 "cells": [
  {
   "cell_type": "markdown",
   "id": "96bf04a7-6007-4839-b360-aeba4a1babc1",
   "metadata": {},
   "source": [
    "<img src=\"../../figures/logo-esi-sba.png\" width=\"700\" height=\"126\" align=\"center\" alt=\"Logo\">\n",
    "\n",
    "# Book recommendation system\n",
    "*Prepared by* \n",
    "- Benghenima Hafsa (h.benghenima@esi-sba.dz) \n",
    "- Ghandouz Amina (a.ghandouz@esi-sba.dz) \n",
    "- Benahmed Firdaws (f.benahmed@esi-sba.dz) "
   ]
  },
  {
   "cell_type": "markdown",
   "id": "96b580c0-775b-4fef-9809-779bad9e86bf",
   "metadata": {},
   "source": [
    "## Notebook3 : Apriori Algorithm"
   ]
  },
  {
   "cell_type": "code",
   "execution_count": null,
   "id": "7b058c67-351e-4dfa-802c-1824d7fddef4",
   "metadata": {},
   "outputs": [],
   "source": []
  }
 ],
 "metadata": {
  "kernelspec": {
   "display_name": "Python 3 (ipykernel)",
   "language": "python",
   "name": "python3"
  },
  "language_info": {
   "codemirror_mode": {
    "name": "ipython",
    "version": 3
   },
   "file_extension": ".py",
   "mimetype": "text/x-python",
   "name": "python",
   "nbconvert_exporter": "python",
   "pygments_lexer": "ipython3",
   "version": "3.12.3"
  }
 },
 "nbformat": 4,
 "nbformat_minor": 5
}
